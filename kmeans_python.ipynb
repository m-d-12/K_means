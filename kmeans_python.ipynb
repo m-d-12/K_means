{
  "cells": [
    {
      "cell_type": "code",
      "execution_count": null,
      "metadata": {
        "id": "pnLaYsQhS9JT",
        "tags": []
      },
      "outputs": [],
      "source": [
        "import pandas as pd\n",
        "# import io\n",
        "\n",
        "# from google.colab import files\n",
        "# uploaded = files.upload()"
      ]
    },
    {
      "cell_type": "code",
      "execution_count": null,
      "metadata": {
        "tags": [],
        "id": "HrR5Uq__H0MZ"
      },
      "outputs": [],
      "source": [
        "data = pd.read_csv('eoutlookTS.csv')"
      ]
    },
    {
      "cell_type": "code",
      "execution_count": null,
      "metadata": {
        "tags": [],
        "id": "pOmTFLVeH0Mb",
        "outputId": "9a335f12-c79d-4eca-ff61-f49aca2f1458"
      },
      "outputs": [
        {
          "data": {
            "text/plain": [
              "Index(['Country Name', 'Country Code', 'Indicator Name', 'Indicator Code',\n",
              "       'Attribute', '2012', '2013', '2014', '2015', '2016', '2017', '2018',\n",
              "       '2019', '2020', '2021', 'Base Year', 'Unnamed: 16'],\n",
              "      dtype='object')"
            ]
          },
          "execution_count": 5,
          "metadata": {},
          "output_type": "execute_result"
        }
      ],
      "source": [
        "data.columns"
      ]
    },
    {
      "cell_type": "code",
      "execution_count": null,
      "metadata": {
        "tags": [],
        "id": "jvCqk-1fH0Me",
        "outputId": "e95a2437-d141-45b4-dabf-97c6a54f5918"
      },
      "outputs": [
        {
          "data": {
            "text/html": [
              "<div>\n",
              "<style scoped>\n",
              "    .dataframe tbody tr th:only-of-type {\n",
              "        vertical-align: middle;\n",
              "    }\n",
              "\n",
              "    .dataframe tbody tr th {\n",
              "        vertical-align: top;\n",
              "    }\n",
              "\n",
              "    .dataframe thead th {\n",
              "        text-align: right;\n",
              "    }\n",
              "</style>\n",
              "<table border=\"1\" class=\"dataframe\">\n",
              "  <thead>\n",
              "    <tr style=\"text-align: right;\">\n",
              "      <th></th>\n",
              "      <th>2013</th>\n",
              "      <th>2014</th>\n",
              "      <th>2015</th>\n",
              "      <th>2016</th>\n",
              "      <th>2017</th>\n",
              "      <th>2018</th>\n",
              "      <th>2019</th>\n",
              "      <th>2020</th>\n",
              "      <th>2021</th>\n",
              "    </tr>\n",
              "  </thead>\n",
              "  <tbody>\n",
              "    <tr>\n",
              "      <th>0</th>\n",
              "      <td>0.200799</td>\n",
              "      <td>14.905583</td>\n",
              "      <td>13.226791</td>\n",
              "      <td>9.002666</td>\n",
              "      <td>2.787334</td>\n",
              "      <td>5.241875</td>\n",
              "      <td>5.730075</td>\n",
              "      <td>5.502134</td>\n",
              "      <td>6.074727</td>\n",
              "    </tr>\n",
              "    <tr>\n",
              "      <th>1</th>\n",
              "      <td>5.390545</td>\n",
              "      <td>5.330872</td>\n",
              "      <td>7.044583</td>\n",
              "      <td>0.825551</td>\n",
              "      <td>1.330361</td>\n",
              "      <td>3.921043</td>\n",
              "      <td>4.328353</td>\n",
              "      <td>4.447906</td>\n",
              "      <td>4.849560</td>\n",
              "    </tr>\n",
              "    <tr>\n",
              "      <th>2</th>\n",
              "      <td>1.578705</td>\n",
              "      <td>-5.279759</td>\n",
              "      <td>0.806382</td>\n",
              "      <td>-3.181700</td>\n",
              "      <td>3.474188</td>\n",
              "      <td>3.536731</td>\n",
              "      <td>3.644354</td>\n",
              "      <td>3.979334</td>\n",
              "      <td>3.840477</td>\n",
              "    </tr>\n",
              "    <tr>\n",
              "      <th>3</th>\n",
              "      <td>19.266017</td>\n",
              "      <td>14.087290</td>\n",
              "      <td>20.779727</td>\n",
              "      <td>11.365084</td>\n",
              "      <td>8.207265</td>\n",
              "      <td>12.039589</td>\n",
              "      <td>13.399777</td>\n",
              "      <td>13.050892</td>\n",
              "      <td>13.015151</td>\n",
              "    </tr>\n",
              "    <tr>\n",
              "      <th>4</th>\n",
              "      <td>-15.212637</td>\n",
              "      <td>-4.946150</td>\n",
              "      <td>-0.084670</td>\n",
              "      <td>8.053188</td>\n",
              "      <td>5.409294</td>\n",
              "      <td>-1.913507</td>\n",
              "      <td>-0.225860</td>\n",
              "      <td>-4.796220</td>\n",
              "      <td>0.861616</td>\n",
              "    </tr>\n",
              "  </tbody>\n",
              "</table>\n",
              "</div>"
            ],
            "text/plain": [
              "        2013       2014       2015       2016      2017       2018       2019  \\\n",
              "0   0.200799  14.905583  13.226791   9.002666  2.787334   5.241875   5.730075   \n",
              "1   5.390545   5.330872   7.044583   0.825551  1.330361   3.921043   4.328353   \n",
              "2   1.578705  -5.279759   0.806382  -3.181700  3.474188   3.536731   3.644354   \n",
              "3  19.266017  14.087290  20.779727  11.365084  8.207265  12.039589  13.399777   \n",
              "4 -15.212637  -4.946150  -0.084670   8.053188  5.409294  -1.913507  -0.225860   \n",
              "\n",
              "        2020       2021  \n",
              "0   5.502134   6.074727  \n",
              "1   4.447906   4.849560  \n",
              "2   3.979334   3.840477  \n",
              "3  13.050892  13.015151  \n",
              "4  -4.796220   0.861616  "
            ]
          },
          "execution_count": 6,
          "metadata": {},
          "output_type": "execute_result"
        }
      ],
      "source": [
        "data = data[['2013', '2014', '2015', '2016', '2017', '2018',\n",
        "       '2019', '2020', '2021']]\n",
        "data.head()"
      ]
    },
    {
      "cell_type": "code",
      "execution_count": null,
      "metadata": {
        "tags": [],
        "id": "f1NT2Y6HH0Mg",
        "outputId": "cf551d4b-b8d4-4393-db21-baa8bdf3dce0"
      },
      "outputs": [
        {
          "name": "stdout",
          "output_type": "stream",
          "text": [
            "<class 'pandas.core.frame.DataFrame'>\n",
            "RangeIndex: 368 entries, 0 to 367\n",
            "Data columns (total 9 columns):\n",
            " #   Column  Non-Null Count  Dtype  \n",
            "---  ------  --------------  -----  \n",
            " 0   2013    368 non-null    float64\n",
            " 1   2014    368 non-null    float64\n",
            " 2   2015    368 non-null    float64\n",
            " 3   2016    368 non-null    float64\n",
            " 4   2017    368 non-null    float64\n",
            " 5   2018    368 non-null    float64\n",
            " 6   2019    368 non-null    float64\n",
            " 7   2020    368 non-null    float64\n",
            " 8   2021    368 non-null    float64\n",
            "dtypes: float64(9)\n",
            "memory usage: 26.0 KB\n"
          ]
        }
      ],
      "source": [
        "data.info()"
      ]
    },
    {
      "cell_type": "code",
      "execution_count": null,
      "metadata": {
        "tags": [],
        "id": "BtfzVmHpH0Mi"
      },
      "outputs": [],
      "source": [
        "import csv\n",
        "import random\n",
        "import math\n",
        "import numpy as np"
      ]
    },
    {
      "cell_type": "code",
      "execution_count": null,
      "metadata": {
        "tags": [],
        "id": "GAUhgezaH0Mj"
      },
      "outputs": [],
      "source": [
        "# Compute cosine similarity between two vectors\n",
        "def cosine_similarity(v1, v2):\n",
        "    dot_product = np.dot(v1, v2)\n",
        "    mag_v1 = math.sqrt(sum([v1[i]**2 for i in range(len(v1))]))\n",
        "    mag_v2 = math.sqrt(sum([v2[i]**2 for i in range(len(v2))]))\n",
        "    return dot_product / (mag_v1 * mag_v2)\n",
        "\n",
        "# Compute centroid of a cluster\n",
        "def compute_centroid(cluster):\n",
        "    # print(cluster)\n",
        "    centroid = [0] * len(cluster[0])\n",
        "    for i in range(len(centroid)):\n",
        "        centroid[i] = sum([cluster[j][i] for j in range(len(cluster))]) / len(cluster)\n",
        "    return centroid\n",
        "\n",
        "# Initialize clusters randomly\n",
        "def init_clusters(dataset, k):\n",
        "    n = len(dataset)\n",
        "    idx = random.sample(range(n), k)\n",
        "    clusters = [[dataset[i]] for i in idx]\n",
        "    for i in range(n):\n",
        "        if i not in idx:\n",
        "            closest_cluster = 0\n",
        "            max_similarity = -1\n",
        "            for j in range(k):\n",
        "                similarity = cosine_similarity(dataset[i], clusters[j][0])\n",
        "                if similarity > max_similarity:\n",
        "                    max_similarity = similarity\n",
        "                    closest_cluster = j\n",
        "            clusters[closest_cluster].append(dataset[i])\n",
        "    return clusters\n",
        "\n",
        "# Perform K-means clustering\n",
        "def kmeans(dataset, k, max_iters=20):\n",
        "    # Initialize clusters randomly\n",
        "    clusters = init_clusters(dataset, k)\n",
        "    # Initialize centroids\n",
        "    centroids = [compute_centroid(cluster) for cluster in clusters]\n",
        "    # Assign each point to its closest centroid\n",
        "    for i in range(max_iters):\n",
        "        new_clusters = [[] for _ in range(k)]\n",
        "        for point in dataset:\n",
        "            closest_centroid = 0\n",
        "            max_similarity = -1\n",
        "            for j in range(k):\n",
        "                similarity = cosine_similarity(point, centroids[j])\n",
        "                if similarity > max_similarity:\n",
        "                    max_similarity = similarity\n",
        "                    closest_centroid = j\n",
        "            new_clusters[closest_centroid].append(point)\n",
        "        # Update centroids\n",
        "        for j in range(k):\n",
        "            centroids[j] = compute_centroid(new_clusters[j])\n",
        "        # # Check for convergence\n",
        "        # if clusters == new_clusters:\n",
        "        #     break\n",
        "        # clusters = new_clusters\n",
        "    return clusters\n"
      ]
    },
    {
      "cell_type": "code",
      "execution_count": null,
      "metadata": {
        "tags": [],
        "id": "5_C3gknWH0Mm",
        "outputId": "8e553f78-c482-4c3d-8798-07e130a7b64e"
      },
      "outputs": [
        {
          "name": "stderr",
          "output_type": "stream",
          "text": [
            "C:\\Users\\DELL\\AppData\\Local\\Temp\\ipykernel_11004\\1803121407.py:6: RuntimeWarning: invalid value encountered in double_scalars\n",
            "  return dot_product / (mag_v1 * mag_v2)\n"
          ]
        }
      ],
      "source": [
        "clusters = kmeans(np.array(data), 3)"
      ]
    },
    {
      "cell_type": "code",
      "execution_count": null,
      "metadata": {
        "id": "hHeuAttoH0Mo"
      },
      "outputs": [],
      "source": []
    },
    {
      "cell_type": "code",
      "execution_count": null,
      "metadata": {
        "id": "RX45w3IpH0Mp"
      },
      "outputs": [],
      "source": []
    },
    {
      "cell_type": "code",
      "execution_count": null,
      "metadata": {
        "id": "r4EP2c9RH0Mq"
      },
      "outputs": [],
      "source": []
    },
    {
      "cell_type": "code",
      "execution_count": null,
      "metadata": {
        "id": "hlaBGXT8H0Mq"
      },
      "outputs": [],
      "source": []
    },
    {
      "cell_type": "code",
      "execution_count": null,
      "metadata": {
        "id": "8m66IRZeH0Mr"
      },
      "outputs": [],
      "source": []
    },
    {
      "cell_type": "code",
      "execution_count": null,
      "metadata": {
        "id": "rnz-84ojH0Mr"
      },
      "outputs": [],
      "source": []
    },
    {
      "cell_type": "code",
      "execution_count": null,
      "metadata": {
        "id": "0e9oQF26H0Ms"
      },
      "outputs": [],
      "source": []
    },
    {
      "cell_type": "code",
      "execution_count": null,
      "metadata": {
        "id": "_DLbP01zH0Ms"
      },
      "outputs": [],
      "source": []
    }
  ],
  "metadata": {
    "colab": {
      "provenance": []
    },
    "kernelspec": {
      "display_name": "Python 3 (ipykernel)",
      "language": "python",
      "name": "python3"
    },
    "language_info": {
      "codemirror_mode": {
        "name": "ipython",
        "version": 3
      },
      "file_extension": ".py",
      "mimetype": "text/x-python",
      "name": "python",
      "nbconvert_exporter": "python",
      "pygments_lexer": "ipython3",
      "version": "3.10.9"
    }
  },
  "nbformat": 4,
  "nbformat_minor": 0
}